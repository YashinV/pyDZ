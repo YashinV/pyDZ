{
 "cells": [
  {
   "cell_type": "code",
   "execution_count": 4,
   "metadata": {},
   "outputs": [
    {
     "ename": "ModuleNotFoundError",
     "evalue": "No module named 'sympy'",
     "output_type": "error",
     "traceback": [
      "\u001b[1;31m---------------------------------------------------------------------------\u001b[0m",
      "\u001b[1;31mModuleNotFoundError\u001b[0m                       Traceback (most recent call last)",
      "Cell \u001b[1;32mIn[4], line 5\u001b[0m\n\u001b[0;32m      1\u001b[0m \u001b[39m# Дана функция f(x) = -8x^2+3x+17\u001b[39;00m\n\u001b[0;32m      2\u001b[0m \n\u001b[0;32m      3\u001b[0m \u001b[39m# 1 Опоределить корни\u001b[39;00m\n\u001b[1;32m----> 5\u001b[0m \u001b[39mfrom\u001b[39;00m \u001b[39msympy\u001b[39;00m \u001b[39mimport\u001b[39;00m \u001b[39m*\u001b[39m\n\u001b[0;32m      7\u001b[0m x \u001b[39m=\u001b[39m Symbol(\u001b[39m'\u001b[39m\u001b[39mx\u001b[39m\u001b[39m'\u001b[39m)\n\u001b[0;32m      8\u001b[0m func\u001b[39m=\u001b[39m\u001b[39m-\u001b[39m\u001b[39m8\u001b[39m\u001b[39m*\u001b[39mx\u001b[39m*\u001b[39m\u001b[39m*\u001b[39m\u001b[39m2\u001b[39m\u001b[39m+\u001b[39m\u001b[39m3\u001b[39m\u001b[39m*\u001b[39mx\u001b[39m+\u001b[39m\u001b[39m17\u001b[39m\n",
      "\u001b[1;31mModuleNotFoundError\u001b[0m: No module named 'sympy'"
     ]
    }
   ],
   "source": [
    "# Дана функция f(x) = -8x^2+3x+17\n",
    "\n",
    "# 1 Опоределить корни\n",
    "\n",
    "from sympy import *\n",
    "\n",
    "x = Symbol('x')\n",
    "func=-8*x**2+3*x+17\n",
    "y=solve(func)\n",
    "x1=float(y[0])\n",
    "x2=float(y[1])\n",
    "print(x1,x2)\n",
    "\n",
    "# 2 Найти интервалы, на которых функция возрастает\n",
    "\n",
    "fd=diff(func)\n",
    "print(solve(0<fd))\n",
    "\n",
    "# 3 Найти интервалы, на которых функция убывает\n",
    "\n",
    "print(solve(fd<0))\n",
    "\n",
    "# 4 Построить график\n",
    "\n",
    "import matplotlib.pyplot as plt\n",
    "list_y=[]\n",
    "for i in range(-5,6):\n",
    "    x=i\n",
    "    y=-8*x**2+3*x+17\n",
    "    list_y.append(y)\n",
    "print(list_y)\n",
    "plt.plot(range(-5,6),[0,0,0,0,0,0,0,0,0,0,0])\n",
    "plt.plot(range(-5,6),list_y)\n",
    "\n",
    "# 5 Вычислить вершину\n",
    "\n",
    "corni=solve(fd)\n",
    "top=corni[0]\n",
    "x=top\n",
    "y=-8*x**2+3*x+17\n",
    "print(top,y)\n",
    "\n",
    "# 6 Определить промежутки, на котором f > 0\n",
    "\n",
    "solve(0<func)\n",
    "\n",
    "# 7 Определить промежутки, на котором f < 0\n",
    "\n",
    "solve(func<0)\n"
   ]
  }
 ],
 "metadata": {
  "kernelspec": {
   "display_name": "Python 3",
   "language": "python",
   "name": "python3"
  },
  "language_info": {
   "codemirror_mode": {
    "name": "ipython",
    "version": 3
   },
   "file_extension": ".py",
   "mimetype": "text/x-python",
   "name": "python",
   "nbconvert_exporter": "python",
   "pygments_lexer": "ipython3",
   "version": "3.11.1"
  },
  "orig_nbformat": 4,
  "vscode": {
   "interpreter": {
    "hash": "753cdb51eeb1af3293e11b716091203ff3686960950cb9e53bc5e221b99467e5"
   }
  }
 },
 "nbformat": 4,
 "nbformat_minor": 2
}
